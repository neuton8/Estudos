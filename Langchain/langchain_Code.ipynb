{
 "cells": [
  {
   "cell_type": "code",
   "execution_count": 2,
   "metadata": {},
   "outputs": [],
   "source": [
    "from langchain_openai import OpenAI\n",
    "import dotenv\n",
    "\n",
    "dotenv.load_dotenv()\n",
    "openai = OpenAI()"
   ]
  },
  {
   "cell_type": "markdown",
   "metadata": {},
   "source": [
    "LLM invoke chama a llm e te entrega o resultado\n",
    "\n",
    "podemos usar o .stream para o resultado ser entregue como uma stream (cria um generator)\n",
    "\n",
    "Batch envia várias mensagens ao mesmo tempo e em paralelo"
   ]
  },
  {
   "cell_type": "code",
   "execution_count": 3,
   "metadata": {},
   "outputs": [
    {
     "data": {
      "text/plain": [
       "'\\n\\nOlá! Meu nome é OpenAI, sou uma assistente virtual desenvolvida pela empresa OpenAI. E você, como gostaria que eu te chamasse? '"
      ]
     },
     "execution_count": 3,
     "metadata": {},
     "output_type": "execute_result"
    }
   ],
   "source": [
    "openai.invoke('me fale seu nome')\n"
   ]
  },
  {
   "cell_type": "code",
   "execution_count": 6,
   "metadata": {},
   "outputs": [
    {
     "name": "stdout",
     "output_type": "stream",
     "text": [
      "\n",
      "\n",
      "Eu sou o Assistente Virtual da OpenAI, prazer em conhecê-lo! Como posso ajudá-lo hoje? "
     ]
    }
   ],
   "source": [
    "for stream in openai.stream('me fale seu nome'):\n",
    "    print(stream,end='')"
   ]
  },
  {
   "cell_type": "code",
   "execution_count": 7,
   "metadata": {},
   "outputs": [
    {
     "data": {
      "text/plain": [
       "['\\n\\nNão possuo um nome, sou um programa de computador.',\n",
       " '\\n\\nEu sou um programa de computador, então não tenho a capacidade de sentir emoções como um ser humano. Mas obrigado por perguntar, estou aqui para te ajudar com o que precisar. Como posso ser útil?',\n",
       " '\\n\\nEu sou uma inteligência artificial, não tenho idade.']"
      ]
     },
     "execution_count": 7,
     "metadata": {},
     "output_type": "execute_result"
    }
   ],
   "source": [
    "mensagems = [\n",
    "    \"qual o seu nome?\",\n",
    "    \"como voce esta?\",\n",
    "    \"qual a sua idade?\",\n",
    "]\n",
    "\n",
    "openai.batch(mensagems)"
   ]
  },
  {
   "cell_type": "markdown",
   "metadata": {},
   "source": [
    "Podemos utilizar o modelo de chat para enviar e receber mensagens"
   ]
  },
  {
   "cell_type": "code",
   "execution_count": 8,
   "metadata": {},
   "outputs": [
    {
     "data": {
      "text/plain": [
       "AIMessage(content='Meu nome é Assistente. Como posso ajudar você hoje?', response_metadata={'token_usage': {'completion_tokens': 15, 'prompt_tokens': 26, 'total_tokens': 41}, 'model_name': 'gpt-3.5-turbo-0125', 'system_fingerprint': None, 'finish_reason': 'stop', 'logprobs': None}, id='run-f97ebaf1-b60e-419c-8ba8-dfd4e6f788b0-0', usage_metadata={'input_tokens': 26, 'output_tokens': 15, 'total_tokens': 41})"
      ]
     },
     "execution_count": 8,
     "metadata": {},
     "output_type": "execute_result"
    }
   ],
   "source": [
    "from langchain_openai import ChatOpenAI\n",
    "from langchain_core.messages import HumanMessage, SystemMessage\n",
    "\n",
    "chat = ChatOpenAI()\n",
    "mensagens = [\n",
    "    SystemMessage(\"Você é um bot de ajuda com coisas\"),\n",
    "    HumanMessage(\"Qual o seu nome?\"), \n",
    "]\n",
    "\n",
    "chat.invoke(mensagens)"
   ]
  },
  {
   "cell_type": "markdown",
   "metadata": {},
   "source": [
    "# Usando hugging face"
   ]
  },
  {
   "cell_type": "code",
   "execution_count": 7,
   "metadata": {},
   "outputs": [],
   "source": [
    "from langchain_huggingface import HuggingFacePipeline\n",
    "\n",
    "llm = HuggingFacePipeline.from_model_id(\n",
    "    model_id=\"openai-community/gpt2\",\n",
    "    task=\"text-generation\",\n",
    "    pipeline_kwargs=dict(\n",
    "        max_new_tokens=512,\n",
    "        repetition_penalty=1.03,\n",
    "    ),)"
   ]
  },
  {
   "cell_type": "code",
   "execution_count": 8,
   "metadata": {},
   "outputs": [],
   "source": [
    "from langchain_core.messages import (\n",
    "    HumanMessage,\n",
    "    SystemMessage,\n",
    ")\n",
    "from langchain_huggingface import ChatHuggingFace\n",
    "\n",
    "messages = [\n",
    "    HumanMessage(\n",
    "        content=\"Quick and summarized. Force is\"\n",
    "    ),\n",
    "]\n",
    "\n",
    "chat_model = ChatHuggingFace(llm=llm)"
   ]
  },
  {
   "cell_type": "code",
   "execution_count": 18,
   "metadata": {},
   "outputs": [],
   "source": [
    "import langchain\n",
    "langchain.debug = True"
   ]
  },
  {
   "cell_type": "code",
   "execution_count": 2,
   "metadata": {},
   "outputs": [
    {
     "name": "stdout",
     "output_type": "stream",
     "text": [
      "> \u001b[0;32m<timed eval>\u001b[0m(1)\u001b[0;36m<module>\u001b[0;34m()\u001b[0m\n",
      "\n"
     ]
    }
   ],
   "source": [
    "%%time\n",
    "%debug\n",
    "llm.generate([\"I love\"], max_length=1)"
   ]
  }
 ],
 "metadata": {
  "kernelspec": {
   "display_name": "Python 3",
   "language": "python",
   "name": "python3"
  },
  "language_info": {
   "codemirror_mode": {
    "name": "ipython",
    "version": 3
   },
   "file_extension": ".py",
   "mimetype": "text/x-python",
   "name": "python",
   "nbconvert_exporter": "python",
   "pygments_lexer": "ipython3",
   "version": "3.12.4"
  }
 },
 "nbformat": 4,
 "nbformat_minor": 2
}
