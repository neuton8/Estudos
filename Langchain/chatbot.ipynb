{
 "cells": [
  {
   "cell_type": "code",
   "execution_count": 6,
   "metadata": {},
   "outputs": [],
   "source": [
    "from dotenv import load_dotenv\n",
    "import os\n",
    "from openai import OpenAI\n",
    "import time\n",
    "import json\n",
    "import yfinance as yf\n",
    "\n",
    "load_dotenv()\n",
    "OPENAI_API_KEY = os.getenv('OPENAI_API_KEY')\n",
    "\n",
    "# Defining tools\n",
    "function_list = {}\n",
    "\n",
    "def get_share_values(share_list: list):\n",
    "    print(f'Getting value of {share_list}')\n",
    "    result_dict = {}\n",
    "    for share in list(share_list):\n",
    "        share_name = share\n",
    "        share_value = yf.Ticker(share).info['currentPrice']\n",
    "        result_dict[share_name] = share_value\n",
    "\n",
    "    return json.dumps(result_dict)\n",
    "\n",
    "function_list['get_share_values'] = get_share_values\n",
    "\n",
    "def is_function_call(message: str):\n",
    "    if message.choices[0].finish_reason == 'tool_calls':\n",
    "        return True\n",
    "    return False\n",
    "\n",
    "def call_gpt(message):\n",
    "    response = client.chat.completions.create(\n",
    "    model=\"gpt-3.5-turbo\",\n",
    "    tools=tools,\n",
    "    temperature=0,\n",
    "    max_tokens=1000,\n",
    "    messages=message,\n",
    "    )\n",
    "    return response\n",
    "\n",
    "\n",
    "\n",
    "tools = [\n",
    "    {\n",
    "        \"type\": \"function\",\n",
    "        \"function\": {\n",
    "            \"name\": \"get_share_values\",\n",
    "            \"description\": \"Get the value of shares of a company\",\n",
    "            \"parameters\": {\n",
    "                \"type\": \"object\",\n",
    "                \"properties\": {\n",
    "                    \"share_list\": {\n",
    "                        \"type\": \"array\",\n",
    "                        \"items\": {\n",
    "                                \"type\": \"string\"\n",
    "                        },\n",
    "                        \"description\":\"List of all company stock ticker symbols in the stock market, e.g., Google, [GOOG, GOOGL]\",\n",
    "                    }\n",
    "                },\n",
    "                \"required\": [\"share_list\"],\n",
    "            },\n",
    "        }\n",
    "    }\n",
    "]\n",
    "\n",
    "\n",
    "client = OpenAI()\n",
    "\n",
    "\n"
   ]
  },
  {
   "cell_type": "code",
   "execution_count": 136,
   "metadata": {},
   "outputs": [
    {
     "name": "stdout",
     "output_type": "stream",
     "text": [
      "Chat : Bem vindo ao chatbot do neutão\n",
      "Neutão: qual o valor das ações da google\n",
      "stream = ChatCompletion(id='chatcmpl-9lh6Q6VGKDPI3mGeixdLreEnoykjQ', choices=[Choice(finish_reason='tool_calls', index=0, logprobs=None, message=ChatCompletionMessage(content=None, role='assistant', function_call=None, tool_calls=[ChatCompletionMessageToolCall(id='call_IrEPwP6S8QIi60cxA8hxogui', function=Function(arguments='{\"share_list\":[\"GOOG\",\"GOOGL\"]}', name='get_share_values'), type='function')]))], created=1721154130, model='gpt-3.5-turbo-0125', object='chat.completion', service_tier=None, system_fingerprint=None, usage=CompletionUsage(completion_tokens=21, prompt_tokens=84, total_tokens=105))\n",
      "Getting value of ['GOOG', 'GOOGL']\n",
      " O valor das ações da Google é de $185.435 para a GOOG e $183.72 para a GOOGL.\n",
      "\n",
      "\n"
     ]
    }
   ],
   "source": [
    "\n",
    "print(\"Chat : Bem vindo ao chatbot do neutão\") \n",
    "log_conversation = []\n",
    "input_msg = str(input(\"user: \"))\n",
    "# if input_msg == 'exit':\n",
    "#    break\n",
    "print(f'Neutão: {input_msg}')\n",
    "log_conversation.append({\"role\": \"user\", \"content\": input_msg})\n",
    "stream = call_gpt(log_conversation)\n",
    "log_conversation.append(stream.choices[0].message)\n",
    "print(f'{stream = }')\n",
    "if is_function_call(stream):\n",
    "    for tool in stream.choices[0].message.tool_calls:\n",
    "        function_name = function_list[tool.function.name]\n",
    "        function_args = json.loads(tool.function.arguments)\n",
    "        function_return = function_name(**function_args)\n",
    "        log_conversation.append({\n",
    "            \"role\":\"tool\", \n",
    "            \"tool_call_id\":tool.id, \n",
    "            \"name\": tool.function.name, \n",
    "            \"content\":function_return\n",
    "        })\n",
    "        second_response = client.chat.completions.create(\n",
    "            model=\"gpt-3.5-turbo\",\n",
    "            messages=log_conversation,)\n",
    "\n",
    "\n",
    "print(f' {second_response.choices[0].message.content}')\n",
    "# log_sys_response = \"\"\n",
    "# for message in stream:\n",
    "#     if message.choices[0].delta.content is not None:\n",
    "#         print(message.choices[0].delta.content,end='')\n",
    "#     log_sys_response = log_sys_response + str(message.choices[0].delta.content)\n",
    "# log_conversation.append({\"role\": \"assistant\", \"content\": log_sys_response})\n",
    "print('\\n')\n",
    "    \n",
    "\n",
    "\n",
    "\n",
    "\n"
   ]
  },
  {
   "cell_type": "code",
   "execution_count": 100,
   "metadata": {},
   "outputs": [
    {
     "data": {
      "text/plain": [
       "True"
      ]
     },
     "execution_count": 100,
     "metadata": {},
     "output_type": "execute_result"
    }
   ],
   "source": [
    "stream.choices[0].finish_reason == ''\n"
   ]
  },
  {
   "cell_type": "code",
   "execution_count": 118,
   "metadata": {},
   "outputs": [
    {
     "data": {
      "text/plain": [
       "2.165"
      ]
     },
     "execution_count": 118,
     "metadata": {},
     "output_type": "execute_result"
    }
   ],
   "source": [
    "\n"
   ]
  }
 ],
 "metadata": {
  "kernelspec": {
   "display_name": "Python 3",
   "language": "python",
   "name": "python3"
  },
  "language_info": {
   "codemirror_mode": {
    "name": "ipython",
    "version": 3
   },
   "file_extension": ".py",
   "mimetype": "text/x-python",
   "name": "python",
   "nbconvert_exporter": "python",
   "pygments_lexer": "ipython3",
   "version": "3.12.4"
  }
 },
 "nbformat": 4,
 "nbformat_minor": 2
}
